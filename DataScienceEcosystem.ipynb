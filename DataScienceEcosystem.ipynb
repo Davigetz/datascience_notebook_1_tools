{
 "cells": [
  {
   "cell_type": "markdown",
   "metadata": {},
   "source": [
    "# Data Science Tools and Ecosystem"
   ]
  },
  {
   "cell_type": "markdown",
   "metadata": {},
   "source": [
    "In this notebook, Data Science Tools and Ecosystem are summarized."
   ]
  },
  {
   "cell_type": "markdown",
   "metadata": {},
   "source": [
    "Some of the popular languages that Data Scientists use are:\n",
    "1. SQL\n",
    "2. Python\n",
    "3. R\n",
    "4. Javascript\n",
    "5. Java\n",
    "6. Julia"
   ]
  },
  {
   "cell_type": "markdown",
   "metadata": {},
   "source": [
    "Some of the commonly used libraries used by Data Scientists include:\n",
    "1. Numpy\n",
    "2. Pandas\n",
    "3. Seaborn\n",
    "4. Scikit-learn\n",
    "5. Pytorch\n",
    "6. Apache Spark\n",
    "7. Vegas\n",
    "8. ggplot2\n",
    "9. Keras\n",
    "10. TensorFlow\n"
   ]
  },
  {
   "cell_type": "markdown",
   "metadata": {},
   "source": [
    "| Data Science Tool | Development Enviroment |\n",
    "| -------------| ------ |\n",
    "| MySQL | SQL |\n",
    "| Spyder| Python-based IDE |\n",
    "| RSutdio | R-based IDE |\n",
    "| Apache Hadoop | Java |\n",
    "|TensorFlow.js | Javascript|"
   ]
  },
  {
   "cell_type": "markdown",
   "metadata": {},
   "source": []
  }
 ],
 "metadata": {
  "language_info": {
   "name": "python"
  }
 },
 "nbformat": 4,
 "nbformat_minor": 2
}
